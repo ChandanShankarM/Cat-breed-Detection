{
 "cells": [
  {
   "cell_type": "code",
   "execution_count": 1,
   "metadata": {},
   "outputs": [],
   "source": [
    "import pandas as pd\n",
    "import cv2 as cv\n",
    "import numpy as np\n",
    "import matplotlib.pyplot as plt\n",
    "import os\n",
    "import seaborn as sns"
   ]
  },
  {
   "cell_type": "code",
   "execution_count": 2,
   "metadata": {},
   "outputs": [],
   "source": [
    "DATASET=\"images/train\"\n",
    "DATASET2=\"images/valid\""
   ]
  },
  {
   "cell_type": "code",
   "execution_count": 3,
   "metadata": {},
   "outputs": [],
   "source": [
    "CATEGORIES=[\"Bombay\",\"British Shorthair\",\"Burmese\",\"Calico\",\"Dilute Calico\",\"Himalayan\",\"Munchkin\",\"Ragdoll\",\"Russian Blue\",\"Siberian\"]"
   ]
  },
  {
   "cell_type": "code",
   "execution_count": 4,
   "metadata": {},
   "outputs": [],
   "source": [
    "train_data=[]"
   ]
  },
  {
   "cell_type": "code",
   "execution_count": 5,
   "metadata": {},
   "outputs": [
    {
     "name": "stdout",
     "output_type": "stream",
     "text": [
      "images/train/Bombay\n",
      "images/train/British Shorthair\n",
      "images/train/Burmese\n",
      "images/train/Calico\n",
      "images/train/Dilute Calico\n",
      "images/train/Himalayan\n",
      "images/train/Munchkin\n",
      "images/train/Ragdoll\n",
      "images/train/Russian Blue\n",
      "images/train/Siberian\n"
     ]
    }
   ],
   "source": [
    "for category in CATEGORIES:\n",
    "        label=CATEGORIES.index(category)\n",
    "        path=os.path.join(DATASET,category)\n",
    "        print(path)\n",
    "        for img_file in os.listdir(path):\n",
    "            img=cv.imread(os.path.join(path,img_file),1)\n",
    "            img=cv.cvtColor(img,cv.COLOR_BGR2RGB)\n",
    "            img=cv.resize(img,(64,64))            \n",
    "            train_data.append([img,label])"
   ]
  },
  {
   "cell_type": "code",
   "execution_count": 6,
   "metadata": {},
   "outputs": [],
   "source": [
    "test_data=[]"
   ]
  },
  {
   "cell_type": "code",
   "execution_count": 7,
   "metadata": {},
   "outputs": [
    {
     "name": "stdout",
     "output_type": "stream",
     "text": [
      "images/valid/Bombay\n",
      "images/valid/British Shorthair\n",
      "images/valid/Burmese\n",
      "images/valid/Calico\n",
      "images/valid/Dilute Calico\n",
      "images/valid/Himalayan\n",
      "images/valid/Munchkin\n",
      "images/valid/Ragdoll\n",
      "images/valid/Russian Blue\n",
      "images/valid/Siberian\n"
     ]
    }
   ],
   "source": [
    "for category in CATEGORIES:\n",
    "        label=CATEGORIES.index(category)\n",
    "        path=os.path.join(DATASET2,category)\n",
    "        print(path)\n",
    "        for img_file in os.listdir(path):\n",
    "            img=cv.imread(os.path.join(path,img_file),1)\n",
    "            img=cv.cvtColor(img,cv.COLOR_BGR2RGB)\n",
    "            img=cv.resize(img,(64,64))\n",
    "            test_data.append([img,label])"
   ]
  },
  {
   "cell_type": "code",
   "execution_count": 8,
   "metadata": {},
   "outputs": [
    {
     "name": "stdout",
     "output_type": "stream",
     "text": [
      "15654\n",
      "1779\n"
     ]
    }
   ],
   "source": [
    "print(len(train_data))\n",
    "print(len(test_data))"
   ]
  },
  {
   "cell_type": "code",
   "execution_count": 9,
   "metadata": {},
   "outputs": [],
   "source": [
    "import random"
   ]
  },
  {
   "cell_type": "code",
   "execution_count": 10,
   "metadata": {},
   "outputs": [],
   "source": [
    "random.shuffle(train_data)\n",
    "random.shuffle(test_data)"
   ]
  },
  {
   "cell_type": "code",
   "execution_count": 11,
   "metadata": {},
   "outputs": [
    {
     "name": "stdout",
     "output_type": "stream",
     "text": [
      "0\n",
      "3\n",
      "8\n",
      "9\n",
      "8\n",
      "4\n",
      "4\n",
      "7\n",
      "8\n",
      "5\n"
     ]
    }
   ],
   "source": [
    "for lbl in train_data[:10]:\n",
    "    print(lbl[1])"
   ]
  },
  {
   "cell_type": "code",
   "execution_count": 12,
   "metadata": {},
   "outputs": [],
   "source": [
    "X_train=[]\n",
    "y_train=[]"
   ]
  },
  {
   "cell_type": "code",
   "execution_count": 13,
   "metadata": {},
   "outputs": [],
   "source": [
    "for features,label in train_data:\n",
    "    X_train.append(features)\n",
    "    y_train.append(label)"
   ]
  },
  {
   "cell_type": "code",
   "execution_count": 14,
   "metadata": {},
   "outputs": [],
   "source": [
    "Y=[]\n",
    "for i in y_train:\n",
    "    if i==0:\n",
    "        Y.append(\"Bombay\")\n",
    "    elif i==1:\n",
    "        Y.append(\"British Shorthair\")\n",
    "    elif i==2:\n",
    "        Y.append(\"Burmese\")\n",
    "    elif i==3:\n",
    "        Y.append(\"Calico\")\n",
    "    elif i==4:\n",
    "        Y.append(\"Dilute Calico\")\n",
    "    elif i==5:\n",
    "        Y.append(\"Himalayan\")\n",
    "    elif i==6:\n",
    "        Y.append(\"Munchkin\")\n",
    "    elif i==7:\n",
    "        Y.append(\"Ragdoll\")\n",
    "    elif i==8:\n",
    "        Y.append(\"Russian Blue\")\n",
    "    else:\n",
    "        Y.append(\"Siberian\")\n"
   ]
  },
  {
   "cell_type": "code",
   "execution_count": 15,
   "metadata": {},
   "outputs": [
    {
     "data": {
      "text/plain": [
       "(15654, 15654)"
      ]
     },
     "execution_count": 15,
     "metadata": {},
     "output_type": "execute_result"
    }
   ],
   "source": [
    "len(X_train),len(y_train)"
   ]
  },
  {
   "cell_type": "code",
   "execution_count": 16,
   "metadata": {},
   "outputs": [],
   "source": [
    "X_test=[]\n",
    "y_test=[]"
   ]
  },
  {
   "cell_type": "code",
   "execution_count": 17,
   "metadata": {},
   "outputs": [],
   "source": [
    "for features,label in test_data:\n",
    "    X_test.append(features)\n",
    "    y_test.append(label)"
   ]
  },
  {
   "cell_type": "code",
   "execution_count": 18,
   "metadata": {},
   "outputs": [],
   "source": [
    "Z=[]\n",
    "for i in y_test:\n",
    "    if i==0:\n",
    "        Z.append(\"Bombay\")\n",
    "    elif i==1:\n",
    "        Z.append(\"British Shorthair\")\n",
    "    elif i==2:\n",
    "        Z.append(\"Burmese\")\n",
    "    elif i==3:\n",
    "        Z.append(\"Calico\")\n",
    "    elif i==4:\n",
    "        Z.append(\"Dilute Calico\")\n",
    "    elif i==5:\n",
    "        Z.append(\"Himalayan\")\n",
    "    elif i==6:\n",
    "        Z.append(\"Munchkin\")\n",
    "    elif i==7:\n",
    "        Z.append(\"Ragdoll\")\n",
    "    elif i==8:\n",
    "        Z.append(\"Russian Blue\")\n",
    "    else:\n",
    "        Z.append(\"Siberian\")\n"
   ]
  },
  {
   "cell_type": "code",
   "execution_count": 19,
   "metadata": {},
   "outputs": [
    {
     "data": {
      "text/plain": [
       "(1779, 1779)"
      ]
     },
     "execution_count": 19,
     "metadata": {},
     "output_type": "execute_result"
    }
   ],
   "source": [
    "len(X_test),len(y_test)"
   ]
  },
  {
   "cell_type": "code",
   "execution_count": 20,
   "metadata": {},
   "outputs": [
    {
     "data": {
      "text/plain": [
       "(15654, 64, 64, 3)"
      ]
     },
     "execution_count": 20,
     "metadata": {},
     "output_type": "execute_result"
    }
   ],
   "source": [
    "X_train=np.array(X_train).reshape(-1,64,64,3)\n",
    "X_train=X_train/255.0\n",
    "X_train.shape"
   ]
  },
  {
   "cell_type": "code",
   "execution_count": 21,
   "metadata": {},
   "outputs": [
    {
     "data": {
      "text/plain": [
       "(1779, 64, 64, 3)"
      ]
     },
     "execution_count": 21,
     "metadata": {},
     "output_type": "execute_result"
    }
   ],
   "source": [
    "X_test=np.array(X_test).reshape(-1,64,64,3)\n",
    "X_test=X_test/255.0\n",
    "X_test.shape"
   ]
  },
  {
   "cell_type": "code",
   "execution_count": 22,
   "metadata": {},
   "outputs": [],
   "source": [
    "order=[\"Bombay\",\"British Shorthair\",\"Burmese\",\"Calico\",\"Dilute Calico\",\"Himalayan\",\"Munchkin\",\"Ragdoll\",\"Russian Blue\",\"Siberian\"]"
   ]
  },
  {
   "cell_type": "code",
   "execution_count": 63,
   "metadata": {},
   "outputs": [
    {
     "data": {
      "text/plain": [
       "Text(0, 0.5, 'Image Count')"
      ]
     },
     "execution_count": 63,
     "metadata": {},
     "output_type": "execute_result"
    },
    {
     "data": {
      "image/png": "[encoded data removed]",
      "text/plain": [
       "<Figure size 432x288 with 1 Axes>"
      ]
     },
     "metadata": {
      "needs_background": "light"
     },
     "output_type": "display_data"
    }
   ],
   "source": [
    "ax=sns.countplot(Y, order=order)\n",
    "ax.set_xlabel(\"Cat Breed\")\n",
    "ax.set_xticklabels(ax.get_xticklabels(), rotation=40, ha='right')\n",
    "ax.set_ylabel(\"Image Count\")"
   ]
  },
  {
   "cell_type": "code",
   "execution_count": 64,
   "metadata": {},
   "outputs": [
    {
     "data": {
      "text/plain": [
       "Text(0, 0.5, 'Image Count')"
      ]
     },
     "execution_count": 64,
     "metadata": {},
     "output_type": "execute_result"
    },
    {
     "data": {
      "image/png": "[encoded data removed]",
      "text/plain": [
       "<Figure size 432x288 with 1 Axes>"
      ]
     },
     "metadata": {
      "needs_background": "light"
     },
     "output_type": "display_data"
    }
   ],
   "source": [
    "ax=sns.countplot(Z, order=order)\n",
    "ax.set_xlabel(\"Cat Breed\")\n",
    "ax.set_xticklabels(ax.get_xticklabels(), rotation=40, ha='right')\n",
    "ax.set_ylabel(\"Image Count\")"
   ]
  },
  {
   "cell_type": "code",
   "execution_count": 25,
   "metadata": {},
   "outputs": [],
   "source": [
    "from keras.utils import to_categorical"
   ]
  },
  {
   "cell_type": "code",
   "execution_count": 26,
   "metadata": {},
   "outputs": [
    {
     "data": {
      "text/plain": [
       "array([[1., 0., 0., ..., 0., 0., 0.],\n",
       "       [0., 0., 0., ..., 0., 0., 0.],\n",
       "       [0., 0., 0., ..., 0., 1., 0.],\n",
       "       ...,\n",
       "       [0., 0., 0., ..., 0., 0., 0.],\n",
       "       [0., 0., 0., ..., 0., 1., 0.],\n",
       "       [0., 0., 0., ..., 1., 0., 0.]], dtype=float32)"
      ]
     },
     "execution_count": 26,
     "metadata": {},
     "output_type": "execute_result"
    }
   ],
   "source": [
    "one_hot_train=to_categorical(y_train)\n",
    "one_hot_train"
   ]
  },
  {
   "cell_type": "code",
   "execution_count": 27,
   "metadata": {},
   "outputs": [
    {
     "data": {
      "text/plain": [
       "array([[1., 0., 0., ..., 0., 0., 0.],\n",
       "       [0., 0., 1., ..., 0., 0., 0.],\n",
       "       [0., 0., 0., ..., 0., 0., 0.],\n",
       "       ...,\n",
       "       [0., 0., 0., ..., 0., 0., 0.],\n",
       "       [0., 1., 0., ..., 0., 0., 0.],\n",
       "       [0., 0., 0., ..., 1., 0., 0.]], dtype=float32)"
      ]
     },
     "execution_count": 27,
     "metadata": {},
     "output_type": "execute_result"
    }
   ],
   "source": [
    "one_hot_test=to_categorical(y_test)\n",
    "one_hot_test"
   ]
  },
  {
   "cell_type": "code",
   "execution_count": 28,
   "metadata": {},
   "outputs": [],
   "source": [
    "from tensorflow.keras.models import Sequential\n",
    "from tensorflow.keras.layers import Conv2D,Dense,Flatten,MaxPooling2D,Dropout"
   ]
  },
  {
   "cell_type": "code",
   "execution_count": 29,
   "metadata": {},
   "outputs": [],
   "source": [
    "classifier=Sequential()"
   ]
  },
  {
   "cell_type": "code",
   "execution_count": 30,
   "metadata": {},
   "outputs": [],
   "source": [
    "classifier.add(Conv2D(32,(3,3), input_shape=(64,64,3), activation='relu'))\n",
    "classifier.add(MaxPooling2D(pool_size=(2,2)))\n",
    "classifier.add(Dropout(0.2))\n",
    "\n",
    "classifier.add(Conv2D(64,(3,3), activation='relu'))\n",
    "classifier.add(MaxPooling2D(pool_size=(2,2)))\n",
    "classifier.add(Dropout(0.2))\n",
    "\n",
    "classifier.add(Conv2D(128,(3,3), activation='relu'))\n",
    "classifier.add(MaxPooling2D(pool_size=(2,2)))\n",
    "classifier.add(Dropout(0.4))\n",
    "\n",
    "classifier.add(Flatten())\n",
    "\n",
    "classifier.add(Dense(activation='relu', units=64))\n",
    "classifier.add(Dense(activation='relu', units=128))\n",
    "classifier.add(Dense(activation='relu', units=64))\n",
    "classifier.add(Dense(activation='softmax', units=10))\n",
    "\n",
    "classifier.compile(optimizer='adam', loss='categorical_crossentropy', metrics=['accuracy'])"
   ]
  },
  {
   "cell_type": "code",
   "execution_count": 31,
   "metadata": {},
   "outputs": [
    {
     "name": "stdout",
     "output_type": "stream",
     "text": [
      "Model: \"sequential\"\n",
      "_________________________________________________________________\n",
      "Layer (type)                 Output Shape              Param #   \n",
      "=================================================================\n",
      "conv2d (Conv2D)              (None, 62, 62, 32)        896       \n",
      "_________________________________________________________________\n",
      "max_pooling2d (MaxPooling2D) (None, 31, 31, 32)        0         \n",
      "_________________________________________________________________\n",
      "dropout (Dropout)            (None, 31, 31, 32)        0         \n",
      "_________________________________________________________________\n",
      "conv2d_1 (Conv2D)            (None, 29, 29, 64)        18496     \n",
      "_________________________________________________________________\n",
      "max_pooling2d_1 (MaxPooling2 (None, 14, 14, 64)        0         \n",
      "_________________________________________________________________\n",
      "dropout_1 (Dropout)          (None, 14, 14, 64)        0         \n",
      "_________________________________________________________________\n",
      "conv2d_2 (Conv2D)            (None, 12, 12, 128)       73856     \n",
      "_________________________________________________________________\n",
      "max_pooling2d_2 (MaxPooling2 (None, 6, 6, 128)         0         \n",
      "_________________________________________________________________\n",
      "dropout_2 (Dropout)          (None, 6, 6, 128)         0         \n",
      "_________________________________________________________________\n",
      "flatten (Flatten)            (None, 4608)              0         \n",
      "_________________________________________________________________\n",
      "dense (Dense)                (None, 64)                294976    \n",
      "_________________________________________________________________\n",
      "dense_1 (Dense)              (None, 128)               8320      \n",
      "_________________________________________________________________\n",
      "dense_2 (Dense)              (None, 64)                8256      \n",
      "_________________________________________________________________\n",
      "dense_3 (Dense)              (None, 10)                650       \n",
      "=================================================================\n",
      "Total params: 405,450\n",
      "Trainable params: 405,450\n",
      "Non-trainable params: 0\n",
      "_________________________________________________________________\n"
     ]
    }
   ],
   "source": [
    "classifier.summary()"
   ]
  },
  {
   "cell_type": "code",
   "execution_count": 32,
   "metadata": {},
   "outputs": [
    {
     "name": "stdout",
     "output_type": "stream",
     "text": [
      "Epoch 1/100\n",
      "98/98 [==============================] - 100s 1s/step - loss: 1.8648 - accuracy: 0.2924 - val_loss: 1.7436 - val_accuracy: 0.3769\n",
      "Epoch 2/100\n",
      "98/98 [==============================] - 105s 1s/step - loss: 1.6927 - accuracy: 0.3874 - val_loss: 1.7126 - val_accuracy: 0.3798\n",
      "Epoch 3/100\n",
      "98/98 [==============================] - 95s 971ms/step - loss: 1.6307 - accuracy: 0.4116 - val_loss: 1.6459 - val_accuracy: 0.4142\n",
      "Epoch 4/100\n",
      "98/98 [==============================] - 87s 884ms/step - loss: 1.5706 - accuracy: 0.4384 - val_loss: 1.5608 - val_accuracy: 0.4551\n",
      "Epoch 5/100\n",
      "98/98 [==============================] - 80s 818ms/step - loss: 1.5158 - accuracy: 0.4617 - val_loss: 1.5422 - val_accuracy: 0.4570\n",
      "Epoch 6/100\n",
      "98/98 [==============================] - 61s 625ms/step - loss: 1.4838 - accuracy: 0.4800 - val_loss: 1.5258 - val_accuracy: 0.4631\n",
      "Epoch 7/100\n",
      "98/98 [==============================] - 75s 761ms/step - loss: 1.4410 - accuracy: 0.4978 - val_loss: 1.4719 - val_accuracy: 0.4775\n",
      "Epoch 8/100\n",
      "98/98 [==============================] - 68s 691ms/step - loss: 1.4167 - accuracy: 0.5015 - val_loss: 1.4393 - val_accuracy: 0.4944\n",
      "Epoch 9/100\n",
      "98/98 [==============================] - 75s 761ms/step - loss: 1.3775 - accuracy: 0.5167 - val_loss: 1.4518 - val_accuracy: 0.4912\n",
      "Epoch 10/100\n",
      "98/98 [==============================] - 73s 744ms/step - loss: 1.3487 - accuracy: 0.5319 - val_loss: 1.4143 - val_accuracy: 0.5014\n",
      "Epoch 11/100\n",
      "98/98 [==============================] - 74s 755ms/step - loss: 1.3208 - accuracy: 0.5429 - val_loss: 1.3971 - val_accuracy: 0.5091\n",
      "Epoch 12/100\n",
      "98/98 [==============================] - 85s 867ms/step - loss: 1.2783 - accuracy: 0.5575 - val_loss: 1.3828 - val_accuracy: 0.5254\n",
      "Epoch 13/100\n",
      "98/98 [==============================] - 83s 847ms/step - loss: 1.2391 - accuracy: 0.5691 - val_loss: 1.3669 - val_accuracy: 0.5267\n",
      "Epoch 14/100\n",
      "98/98 [==============================] - 73s 741ms/step - loss: 1.2165 - accuracy: 0.5767 - val_loss: 1.3710 - val_accuracy: 0.5292\n",
      "Epoch 15/100\n",
      "98/98 [==============================] - 75s 760ms/step - loss: 1.1800 - accuracy: 0.5912 - val_loss: 1.3830 - val_accuracy: 0.5257\n",
      "Epoch 16/100\n",
      "98/98 [==============================] - 71s 728ms/step - loss: 1.1560 - accuracy: 0.5939 - val_loss: 1.4096 - val_accuracy: 0.5209\n",
      "Epoch 17/100\n",
      "98/98 [==============================] - 70s 719ms/step - loss: 1.1222 - accuracy: 0.6109 - val_loss: 1.3587 - val_accuracy: 0.5308\n",
      "Epoch 18/100\n",
      "98/98 [==============================] - 72s 736ms/step - loss: 1.0998 - accuracy: 0.6149 - val_loss: 1.3920 - val_accuracy: 0.5340\n",
      "Epoch 19/100\n",
      "98/98 [==============================] - 66s 676ms/step - loss: 1.0557 - accuracy: 0.6309 - val_loss: 1.3843 - val_accuracy: 0.5369\n",
      "Epoch 20/100\n",
      "98/98 [==============================] - 63s 640ms/step - loss: 1.0193 - accuracy: 0.6428 - val_loss: 1.3969 - val_accuracy: 0.5308\n",
      "Epoch 21/100\n",
      "98/98 [==============================] - 72s 736ms/step - loss: 0.9878 - accuracy: 0.6538 - val_loss: 1.3841 - val_accuracy: 0.5257\n",
      "Epoch 22/100\n",
      "98/98 [==============================] - 60s 611ms/step - loss: 0.9766 - accuracy: 0.6546 - val_loss: 1.3944 - val_accuracy: 0.5353\n",
      "Epoch 23/100\n",
      "98/98 [==============================] - 58s 592ms/step - loss: 0.9427 - accuracy: 0.6685 - val_loss: 1.4142 - val_accuracy: 0.5267\n",
      "Epoch 24/100\n",
      "98/98 [==============================] - 58s 589ms/step - loss: 0.8939 - accuracy: 0.6842 - val_loss: 1.4408 - val_accuracy: 0.5289\n",
      "Epoch 25/100\n",
      "98/98 [==============================] - 67s 679ms/step - loss: 0.8595 - accuracy: 0.6963 - val_loss: 1.5046 - val_accuracy: 0.5200\n",
      "Epoch 26/100\n",
      "98/98 [==============================] - 60s 609ms/step - loss: 0.8358 - accuracy: 0.7024 - val_loss: 1.4668 - val_accuracy: 0.5295\n",
      "Epoch 27/100\n",
      "98/98 [==============================] - 67s 687ms/step - loss: 0.8018 - accuracy: 0.7162 - val_loss: 1.5020 - val_accuracy: 0.5283\n",
      "Epoch 28/100\n",
      "98/98 [==============================] - 75s 767ms/step - loss: 0.7887 - accuracy: 0.7232 - val_loss: 1.4984 - val_accuracy: 0.5315\n",
      "Epoch 29/100\n",
      "98/98 [==============================] - 69s 704ms/step - loss: 0.7666 - accuracy: 0.7285 - val_loss: 1.5057 - val_accuracy: 0.5279\n",
      "Epoch 30/100\n",
      "98/98 [==============================] - 67s 687ms/step - loss: 0.7371 - accuracy: 0.7361 - val_loss: 1.5318 - val_accuracy: 0.5292\n",
      "Epoch 31/100\n",
      "98/98 [==============================] - 65s 668ms/step - loss: 0.6957 - accuracy: 0.7519 - val_loss: 1.5619 - val_accuracy: 0.5321\n",
      "Epoch 32/100\n",
      "98/98 [==============================] - 64s 656ms/step - loss: 0.6769 - accuracy: 0.7580 - val_loss: 1.5755 - val_accuracy: 0.5263\n",
      "Epoch 33/100\n",
      "98/98 [==============================] - 60s 611ms/step - loss: 0.6718 - accuracy: 0.7627 - val_loss: 1.6284 - val_accuracy: 0.5238\n",
      "Epoch 34/100\n",
      "98/98 [==============================] - 58s 588ms/step - loss: 0.6241 - accuracy: 0.7779 - val_loss: 1.6720 - val_accuracy: 0.5228\n",
      "Epoch 35/100\n",
      "98/98 [==============================] - 59s 600ms/step - loss: 0.6048 - accuracy: 0.7826 - val_loss: 1.7058 - val_accuracy: 0.5283\n",
      "Epoch 36/100\n",
      "98/98 [==============================] - 60s 609ms/step - loss: 0.6057 - accuracy: 0.7814 - val_loss: 1.6837 - val_accuracy: 0.5200\n",
      "Epoch 37/100\n",
      "98/98 [==============================] - 59s 604ms/step - loss: 0.5594 - accuracy: 0.8000 - val_loss: 1.7861 - val_accuracy: 0.5171\n",
      "Epoch 38/100\n",
      "98/98 [==============================] - 72s 734ms/step - loss: 0.5500 - accuracy: 0.8028 - val_loss: 1.7054 - val_accuracy: 0.5238\n",
      "Epoch 39/100\n",
      "98/98 [==============================] - 75s 768ms/step - loss: 0.5382 - accuracy: 0.8080 - val_loss: 1.7788 - val_accuracy: 0.5145\n",
      "Epoch 40/100\n",
      "98/98 [==============================] - 61s 621ms/step - loss: 0.5107 - accuracy: 0.8215 - val_loss: 1.7961 - val_accuracy: 0.5232\n",
      "Epoch 41/100\n",
      "98/98 [==============================] - 60s 615ms/step - loss: 0.5178 - accuracy: 0.8128 - val_loss: 1.8045 - val_accuracy: 0.5257\n",
      "Epoch 42/100\n",
      "98/98 [==============================] - 58s 587ms/step - loss: 0.4919 - accuracy: 0.8249 - val_loss: 1.7983 - val_accuracy: 0.5209\n",
      "Epoch 43/100\n",
      "98/98 [==============================] - 60s 608ms/step - loss: 0.4776 - accuracy: 0.8298 - val_loss: 1.8870 - val_accuracy: 0.5222\n",
      "Epoch 44/100\n",
      "98/98 [==============================] - 58s 596ms/step - loss: 0.4560 - accuracy: 0.8353 - val_loss: 1.9223 - val_accuracy: 0.5196\n",
      "Epoch 45/100\n",
      "98/98 [==============================] - 58s 593ms/step - loss: 0.4505 - accuracy: 0.8382 - val_loss: 1.9463 - val_accuracy: 0.5196\n",
      "Epoch 46/100\n",
      "98/98 [==============================] - 58s 587ms/step - loss: 0.4282 - accuracy: 0.8474 - val_loss: 1.9398 - val_accuracy: 0.5276\n",
      "Epoch 47/100\n",
      "98/98 [==============================] - 82s 841ms/step - loss: 0.4294 - accuracy: 0.8453 - val_loss: 1.9667 - val_accuracy: 0.5152\n",
      "Epoch 48/100\n",
      "98/98 [==============================] - 64s 654ms/step - loss: 0.4100 - accuracy: 0.8549 - val_loss: 1.9076 - val_accuracy: 0.5164\n",
      "Epoch 49/100\n",
      "98/98 [==============================] - 66s 678ms/step - loss: 0.3960 - accuracy: 0.8596 - val_loss: 2.0343 - val_accuracy: 0.5219\n",
      "Epoch 50/100\n",
      "98/98 [==============================] - 61s 627ms/step - loss: 0.3863 - accuracy: 0.8610 - val_loss: 2.0677 - val_accuracy: 0.5216\n",
      "Epoch 51/100\n",
      "98/98 [==============================] - 69s 700ms/step - loss: 0.3827 - accuracy: 0.8647 - val_loss: 2.0874 - val_accuracy: 0.5126\n",
      "Epoch 52/100\n",
      "98/98 [==============================] - 66s 671ms/step - loss: 0.3874 - accuracy: 0.8612 - val_loss: 1.9810 - val_accuracy: 0.5219\n",
      "Epoch 53/100\n",
      "98/98 [==============================] - 61s 626ms/step - loss: 0.3716 - accuracy: 0.8693 - val_loss: 1.9978 - val_accuracy: 0.5206\n",
      "Epoch 54/100\n",
      "98/98 [==============================] - 58s 596ms/step - loss: 0.3633 - accuracy: 0.8717 - val_loss: 2.0429 - val_accuracy: 0.5193\n",
      "Epoch 55/100\n",
      "98/98 [==============================] - 58s 595ms/step - loss: 0.3586 - accuracy: 0.8739 - val_loss: 2.0491 - val_accuracy: 0.5228\n",
      "Epoch 56/100\n",
      "98/98 [==============================] - 61s 625ms/step - loss: 0.3480 - accuracy: 0.8769 - val_loss: 2.1089 - val_accuracy: 0.5133\n",
      "Epoch 57/100\n"
     ]
    },
    {
     "name": "stdout",
     "output_type": "stream",
     "text": [
      "98/98 [==============================] - 62s 634ms/step - loss: 0.3543 - accuracy: 0.8749 - val_loss: 2.1263 - val_accuracy: 0.5139\n",
      "Epoch 58/100\n",
      "98/98 [==============================] - 61s 620ms/step - loss: 0.3315 - accuracy: 0.8825 - val_loss: 2.1205 - val_accuracy: 0.5248\n",
      "Epoch 59/100\n",
      "98/98 [==============================] - 61s 618ms/step - loss: 0.3139 - accuracy: 0.8871 - val_loss: 2.1922 - val_accuracy: 0.5238\n",
      "Epoch 60/100\n",
      "98/98 [==============================] - 71s 722ms/step - loss: 0.3095 - accuracy: 0.8876 - val_loss: 2.2145 - val_accuracy: 0.5263\n",
      "Epoch 61/100\n",
      "98/98 [==============================] - 67s 681ms/step - loss: 0.3104 - accuracy: 0.8867 - val_loss: 2.1707 - val_accuracy: 0.5117\n",
      "Epoch 62/100\n",
      "98/98 [==============================] - 64s 657ms/step - loss: 0.3022 - accuracy: 0.8947 - val_loss: 2.3058 - val_accuracy: 0.5088\n",
      "Epoch 63/100\n",
      "98/98 [==============================] - 76s 773ms/step - loss: 0.3136 - accuracy: 0.8880 - val_loss: 2.1867 - val_accuracy: 0.5200\n",
      "Epoch 64/100\n",
      "98/98 [==============================] - 90s 920ms/step - loss: 0.3045 - accuracy: 0.8916 - val_loss: 2.3571 - val_accuracy: 0.5168\n",
      "Epoch 65/100\n",
      "98/98 [==============================] - 70s 711ms/step - loss: 0.2986 - accuracy: 0.8941 - val_loss: 2.2600 - val_accuracy: 0.5212\n",
      "Epoch 66/100\n",
      "98/98 [==============================] - 61s 619ms/step - loss: 0.2924 - accuracy: 0.8943 - val_loss: 2.2596 - val_accuracy: 0.5203\n",
      "Epoch 67/100\n",
      "98/98 [==============================] - 59s 606ms/step - loss: 0.2812 - accuracy: 0.8972 - val_loss: 2.3319 - val_accuracy: 0.5203\n",
      "Epoch 68/100\n",
      "98/98 [==============================] - 60s 614ms/step - loss: 0.2930 - accuracy: 0.8976 - val_loss: 2.2619 - val_accuracy: 0.5196\n",
      "Epoch 69/100\n",
      "98/98 [==============================] - 60s 610ms/step - loss: 0.2777 - accuracy: 0.9024 - val_loss: 2.3221 - val_accuracy: 0.5091\n",
      "Epoch 70/100\n",
      "98/98 [==============================] - 59s 603ms/step - loss: 0.2762 - accuracy: 0.9016 - val_loss: 2.3884 - val_accuracy: 0.5129\n",
      "Epoch 71/100\n",
      "98/98 [==============================] - 59s 604ms/step - loss: 0.2855 - accuracy: 0.9003 - val_loss: 2.2855 - val_accuracy: 0.5110\n",
      "Epoch 72/100\n",
      "98/98 [==============================] - 68s 691ms/step - loss: 0.2610 - accuracy: 0.9110 - val_loss: 2.4007 - val_accuracy: 0.5225\n",
      "Epoch 73/100\n",
      "98/98 [==============================] - 82s 833ms/step - loss: 0.2624 - accuracy: 0.9056 - val_loss: 2.3461 - val_accuracy: 0.5270\n",
      "Epoch 74/100\n",
      "98/98 [==============================] - 85s 871ms/step - loss: 0.2669 - accuracy: 0.9077 - val_loss: 2.3103 - val_accuracy: 0.5129\n",
      "Epoch 75/100\n",
      "98/98 [==============================] - 87s 891ms/step - loss: 0.2645 - accuracy: 0.9074 - val_loss: 2.4568 - val_accuracy: 0.5184\n",
      "Epoch 76/100\n",
      "98/98 [==============================] - 102s 1s/step - loss: 0.2621 - accuracy: 0.9070 - val_loss: 2.3072 - val_accuracy: 0.5142\n",
      "Epoch 77/100\n",
      "98/98 [==============================] - 71s 728ms/step - loss: 0.2475 - accuracy: 0.9151 - val_loss: 2.3137 - val_accuracy: 0.5270\n",
      "Epoch 78/100\n",
      "98/98 [==============================] - 76s 774ms/step - loss: 0.2625 - accuracy: 0.9097 - val_loss: 2.4672 - val_accuracy: 0.5222\n",
      "Epoch 79/100\n",
      "98/98 [==============================] - 88s 898ms/step - loss: 0.2475 - accuracy: 0.9154 - val_loss: 2.3146 - val_accuracy: 0.5187\n",
      "Epoch 80/100\n",
      "98/98 [==============================] - 82s 832ms/step - loss: 0.2531 - accuracy: 0.9099 - val_loss: 2.3531 - val_accuracy: 0.5164\n",
      "Epoch 81/100\n",
      "98/98 [==============================] - 84s 855ms/step - loss: 0.2391 - accuracy: 0.9155 - val_loss: 2.5347 - val_accuracy: 0.5206\n",
      "Epoch 82/100\n",
      "98/98 [==============================] - 74s 757ms/step - loss: 0.2317 - accuracy: 0.9167 - val_loss: 2.4762 - val_accuracy: 0.5206\n",
      "Epoch 83/100\n",
      "98/98 [==============================] - 99s 1s/step - loss: 0.2363 - accuracy: 0.9160 - val_loss: 2.3709 - val_accuracy: 0.5155\n",
      "Epoch 84/100\n",
      "98/98 [==============================] - 70s 719ms/step - loss: 0.2318 - accuracy: 0.9181 - val_loss: 2.4724 - val_accuracy: 0.5168\n",
      "Epoch 85/100\n",
      "98/98 [==============================] - 60s 615ms/step - loss: 0.2317 - accuracy: 0.9170 - val_loss: 2.4701 - val_accuracy: 0.5059\n",
      "Epoch 86/100\n",
      "98/98 [==============================] - 60s 615ms/step - loss: 0.2374 - accuracy: 0.9183 - val_loss: 2.3858 - val_accuracy: 0.5248\n",
      "Epoch 87/100\n",
      "98/98 [==============================] - 60s 608ms/step - loss: 0.2260 - accuracy: 0.9221 - val_loss: 2.3460 - val_accuracy: 0.5305\n",
      "Epoch 88/100\n",
      "98/98 [==============================] - 60s 617ms/step - loss: 0.2282 - accuracy: 0.9205 - val_loss: 2.4407 - val_accuracy: 0.5152\n",
      "Epoch 89/100\n",
      "98/98 [==============================] - 61s 627ms/step - loss: 0.2191 - accuracy: 0.9233 - val_loss: 2.5418 - val_accuracy: 0.5126\n",
      "Epoch 90/100\n",
      "98/98 [==============================] - 104s 1s/step - loss: 0.2207 - accuracy: 0.9226 - val_loss: 2.4496 - val_accuracy: 0.5209\n",
      "Epoch 91/100\n",
      "98/98 [==============================] - 71s 727ms/step - loss: 0.2139 - accuracy: 0.9240 - val_loss: 2.5601 - val_accuracy: 0.5216\n",
      "Epoch 92/100\n",
      "98/98 [==============================] - 69s 703ms/step - loss: 0.2224 - accuracy: 0.9202 - val_loss: 2.4094 - val_accuracy: 0.5225\n",
      "Epoch 93/100\n",
      "98/98 [==============================] - 62s 631ms/step - loss: 0.2194 - accuracy: 0.9241 - val_loss: 2.5392 - val_accuracy: 0.5101\n",
      "Epoch 94/100\n",
      "98/98 [==============================] - 58s 588ms/step - loss: 0.2111 - accuracy: 0.9267 - val_loss: 2.4295 - val_accuracy: 0.5152\n",
      "Epoch 95/100\n",
      "98/98 [==============================] - 66s 673ms/step - loss: 0.2135 - accuracy: 0.9279 - val_loss: 2.3944 - val_accuracy: 0.5129\n",
      "Epoch 96/100\n",
      "98/98 [==============================] - 58s 597ms/step - loss: 0.2145 - accuracy: 0.9247 - val_loss: 2.5276 - val_accuracy: 0.5155\n",
      "Epoch 97/100\n",
      "98/98 [==============================] - 57s 585ms/step - loss: 0.2019 - accuracy: 0.9287 - val_loss: 2.5861 - val_accuracy: 0.5065\n",
      "Epoch 98/100\n",
      "98/98 [==============================] - 57s 584ms/step - loss: 0.2175 - accuracy: 0.9224 - val_loss: 2.5417 - val_accuracy: 0.5126\n",
      "Epoch 99/100\n",
      "98/98 [==============================] - 68s 690ms/step - loss: 0.2054 - accuracy: 0.9296 - val_loss: 2.5406 - val_accuracy: 0.5046\n",
      "Epoch 100/100\n",
      "98/98 [==============================] - 61s 619ms/step - loss: 0.2033 - accuracy: 0.9304 - val_loss: 2.6057 - val_accuracy: 0.5120\n"
     ]
    }
   ],
   "source": [
    "hist=classifier.fit(X_train,one_hot_train,epochs=100,batch_size=128,validation_split=0.2)"
   ]
  },
  {
   "cell_type": "code",
   "execution_count": 33,
   "metadata": {},
   "outputs": [
    {
     "name": "stdout",
     "output_type": "stream",
     "text": [
      "56/56 [==============================] - 2s 37ms/step - loss: 0.9408 - accuracy: 0.8730\n"
     ]
    },
    {
     "data": {
      "text/plain": [
       "(0.9407649040222168, 0.8729623556137085)"
      ]
     },
     "execution_count": 33,
     "metadata": {},
     "output_type": "execute_result"
    }
   ],
   "source": [
    "test_loss,test_acc=classifier.evaluate(X_test,one_hot_test)\n",
    "test_loss,test_acc"
   ]
  },
  {
   "cell_type": "code",
   "execution_count": 34,
   "metadata": {},
   "outputs": [
    {
     "data": {
      "image/png": "[encoded data removed]",
      "text/plain": [
       "<Figure size 432x288 with 1 Axes>"
      ]
     },
     "metadata": {
      "needs_background": "light"
     },
     "output_type": "display_data"
    }
   ],
   "source": [
    "plt.plot(hist.history['loss'])\n",
    "plt.plot(hist.history['val_loss'])\n",
    "plt.title('Classifier Loss')\n",
    "plt.ylabel('Loss')\n",
    "plt.xlabel('Epoch')\n",
    "plt.legend(['Train','Validation'],loc='upper right')\n",
    "plt.show()"
   ]
  },
  {
   "cell_type": "code",
   "execution_count": 35,
   "metadata": {},
   "outputs": [
    {
     "data": {
      "image/png": "[encoded data removed]",
      "text/plain": [
       "<Figure size 432x288 with 1 Axes>"
      ]
     },
     "metadata": {
      "needs_background": "light"
     },
     "output_type": "display_data"
    }
   ],
   "source": [
    "plt.plot(hist.history['accuracy'])\n",
    "plt.plot(hist.history['val_accuracy'])\n",
    "plt.title('Classifier Accuracy')\n",
    "plt.ylabel('Accuracy')\n",
    "plt.xlabel('Epoch')\n",
    "plt.legend(['Train','Validation'],loc='upper left')\n",
    "plt.show()"
   ]
  },
  {
   "cell_type": "code",
   "execution_count": 36,
   "metadata": {},
   "outputs": [
    {
     "name": "stdout",
     "output_type": "stream",
     "text": [
      "WARNING:tensorflow:From <ipython-input-36-854682126fea>:1: Sequential.predict_classes (from tensorflow.python.keras.engine.sequential) is deprecated and will be removed after 2021-01-01.\n",
      "Instructions for updating:\n",
      "Please use instead:* `np.argmax(model.predict(x), axis=-1)`,   if your model does multi-class classification   (e.g. if it uses a `softmax` last-layer activation).* `(model.predict(x) > 0.5).astype(\"int32\")`,   if your model does binary classification   (e.g. if it uses a `sigmoid` last-layer activation).\n"
     ]
    },
    {
     "data": {
      "text/plain": [
       "array([0, 2, 3, ..., 4, 1, 7])"
      ]
     },
     "execution_count": 36,
     "metadata": {},
     "output_type": "execute_result"
    }
   ],
   "source": [
    "y_pred=classifier.predict_classes(X_test)\n",
    "y_pred"
   ]
  },
  {
   "cell_type": "code",
   "execution_count": 37,
   "metadata": {},
   "outputs": [
    {
     "name": "stdout",
     "output_type": "stream",
     "text": [
      "WARNING:tensorflow:From <ipython-input-37-1e0afbf15335>:1: Sequential.predict_proba (from tensorflow.python.keras.engine.sequential) is deprecated and will be removed after 2021-01-01.\n",
      "Instructions for updating:\n",
      "Please use `model.predict()` instead.\n"
     ]
    },
    {
     "data": {
      "text/plain": [
       "array([[9.9999511e-01, 1.4218649e-08, 1.3887527e-08, ..., 7.8555198e-09,\n",
       "        7.8563363e-07, 8.2987803e-08],\n",
       "       [6.8051297e-05, 2.3768744e-05, 9.9970102e-01, ..., 1.4744014e-05,\n",
       "        1.1732134e-04, 7.0111636e-09],\n",
       "       [1.2565289e-07, 1.7941245e-05, 7.8178227e-06, ..., 1.4661376e-04,\n",
       "        2.5508295e-06, 2.7901942e-07],\n",
       "       ...,\n",
       "       [1.6864030e-07, 2.1860984e-05, 5.6696776e-06, ..., 1.7038437e-02,\n",
       "        3.7711545e-06, 1.8396552e-06],\n",
       "       [1.8810887e-03, 9.8854673e-01, 3.3236134e-08, ..., 2.5629004e-05,\n",
       "        8.9296587e-03, 6.6675998e-11],\n",
       "       [9.0266825e-09, 2.3373778e-07, 1.9823206e-07, ..., 9.9616206e-01,\n",
       "        2.9245629e-07, 1.0542086e-06]], dtype=float32)"
      ]
     },
     "execution_count": 37,
     "metadata": {},
     "output_type": "execute_result"
    }
   ],
   "source": [
    "y_prob=classifier.predict_proba(X_test)\n",
    "y_prob"
   ]
  },
  {
   "cell_type": "code",
   "execution_count": 38,
   "metadata": {},
   "outputs": [],
   "source": [
    "from sklearn.metrics import roc_curve, auc\n",
    "from sklearn.metrics import confusion_matrix"
   ]
  },
  {
   "cell_type": "code",
   "execution_count": 39,
   "metadata": {},
   "outputs": [],
   "source": [
    "fpr = {}\n",
    "tpr = {}\n",
    "thresh ={}\n",
    "roc_auc={}\n",
    "\n",
    "n_class = 10"
   ]
  },
  {
   "cell_type": "code",
   "execution_count": 40,
   "metadata": {},
   "outputs": [],
   "source": [
    "for i in range(n_class):    \n",
    "    fpr[i], tpr[i], thresh[i] = roc_curve(y_test, y_prob[:,i], pos_label=i)\n",
    "    roc_auc[i] = auc(fpr[i], tpr[i])"
   ]
  },
  {
   "cell_type": "code",
   "execution_count": 41,
   "metadata": {},
   "outputs": [
    {
     "data": {
      "text/plain": [
       "<matplotlib.legend.Legend at 0x7fad7078e490>"
      ]
     },
     "execution_count": 41,
     "metadata": {},
     "output_type": "execute_result"
    },
    {
     "data": {
      "image/png": "[encoded data removed]",
      "text/plain": [
       "<Figure size 432x288 with 1 Axes>"
      ]
     },
     "metadata": {
      "needs_background": "light"
     },
     "output_type": "display_data"
    }
   ],
   "source": [
    "plt.plot(fpr[0], tpr[0], color='orange',label='Bombay AUC= %0.3f' % roc_auc[0])\n",
    "plt.plot(fpr[1], tpr[1], color='green',label='British Shorthair AUC= %0.3f' % roc_auc[1])\n",
    "plt.plot(fpr[2], tpr[2], color='blue',label='Burmese AUC= %0.3f' % roc_auc[2])\n",
    "plt.plot(fpr[3], tpr[3], color='red',label='Calico AUC= %0.3f' % roc_auc[3])\n",
    "plt.plot(fpr[4], tpr[4], color='pink',label='Dilute Calico AUC = %0.3f' % roc_auc[4])\n",
    "plt.plot(fpr[5], tpr[5], color='purple',label='Himalayan AUC = %0.3f' % roc_auc[5])\n",
    "plt.plot(fpr[6], tpr[6], color='brown',label='Munchkin AUC = %0.3f' % roc_auc[6])\n",
    "plt.plot(fpr[7], tpr[7], color='cyan',label='Ragdoll AUC = %0.3f' % roc_auc[7])\n",
    "plt.plot(fpr[8], tpr[8], color='yellow',label='Russian Blue AUC = %0.3f' % roc_auc[8])\n",
    "plt.plot(fpr[9], tpr[9], color='black',label='Siberian AUC = %0.3f' % roc_auc[9])\n",
    "plt.title('Cat Breed Detection ROC curve')\n",
    "plt.xlabel('False Positive Rate')\n",
    "plt.ylabel('True Positive rate')\n",
    "plt.legend(loc='best')"
   ]
  },
  {
   "cell_type": "code",
   "execution_count": 42,
   "metadata": {},
   "outputs": [
    {
     "data": {
      "image/png": "[encoded data removed]",
      "text/plain": [
       "<Figure size 432x288 with 2 Axes>"
      ]
     },
     "metadata": {
      "needs_background": "light"
     },
     "output_type": "display_data"
    }
   ],
   "source": [
    "sns.heatmap(confusion_matrix(y_test,y_pred))\n",
    "cm=confusion_matrix(y_test,y_pred)"
   ]
  },
  {
   "cell_type": "code",
   "execution_count": 43,
   "metadata": {},
   "outputs": [
    {
     "data": {
      "text/plain": [
       "array([[170,   2,   1,   2,   2,   1,   0,   1,   1,   0],\n",
       "       [  6, 113,   0,   6,   7,   1,   0,   2,   9,   0],\n",
       "       [  6,   1, 133,   2,   2,   3,   0,   6,   3,   0],\n",
       "       [  4,   0,   0, 302,  27,   2,   1,   4,   2,   0],\n",
       "       [  0,   0,   0,  10, 218,   3,   0,   9,   8,   0],\n",
       "       [  1,   0,   1,   3,   2, 164,   0,  20,   1,   0],\n",
       "       [  5,   1,   1,   4,   5,   1,  80,   0,   4,   0],\n",
       "       [  2,   0,   1,   1,   4,   5,   0, 166,   1,   0],\n",
       "       [  3,   1,   0,   3,   2,   0,   0,   2, 125,   0],\n",
       "       [  2,   0,   0,   4,   4,   1,   1,   5,   1,  82]])"
      ]
     },
     "execution_count": 43,
     "metadata": {},
     "output_type": "execute_result"
    }
   ],
   "source": [
    "cm"
   ]
  },
  {
   "cell_type": "code",
   "execution_count": 53,
   "metadata": {},
   "outputs": [],
   "source": [
    "from sklearn.metrics import accuracy_score\n",
    "from sklearn.metrics import f1_score"
   ]
  },
  {
   "cell_type": "code",
   "execution_count": 50,
   "metadata": {},
   "outputs": [],
   "source": [
    "acc=accuracy_score(y_test,y_pred)"
   ]
  },
  {
   "cell_type": "code",
   "execution_count": 62,
   "metadata": {},
   "outputs": [
    {
     "data": {
      "text/plain": [
       "87.29623383923553"
      ]
     },
     "execution_count": 62,
     "metadata": {},
     "output_type": "execute_result"
    }
   ],
   "source": [
    "acc*100"
   ]
  },
  {
   "cell_type": "code",
   "execution_count": 75,
   "metadata": {
    "scrolled": false
   },
   "outputs": [],
   "source": [
    "f1=f1_score(y_test,y_pred,average='macro')"
   ]
  },
  {
   "cell_type": "code",
   "execution_count": 76,
   "metadata": {},
   "outputs": [
    {
     "data": {
      "text/plain": [
       "87.48323795744591"
      ]
     },
     "execution_count": 76,
     "metadata": {},
     "output_type": "execute_result"
    }
   ],
   "source": [
    "f1*100"
   ]
  },
  {
   "cell_type": "code",
   "execution_count": null,
   "metadata": {},
   "outputs": [],
   "source": []
  }
 ],
 "metadata": {
  "kernelspec": {
   "display_name": "Python 3",
   "language": "python",
   "name": "python3"
  },
  "language_info": {
   "codemirror_mode": {
    "name": "ipython",
    "version": 3
   },
   "file_extension": ".py",
   "mimetype": "text/x-python",
   "name": "python",
   "nbconvert_exporter": "python",
   "pygments_lexer": "ipython3",
   "version": "3.8.3"
  }
 },
 "nbformat": 4,
 "nbformat_minor": 4
}
